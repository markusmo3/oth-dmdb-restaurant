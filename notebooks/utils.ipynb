{
 "cells": [
  {
   "cell_type": "code",
   "execution_count": null,
   "metadata": {},
   "outputs": [],
   "source": [
    "import pandas as pd\n",
    "import numpy as np\n",
    "import json\n",
    "import textdistance as td\n"
   ]
  },
  {
   "cell_type": "code",
   "execution_count": null,
   "metadata": {},
   "outputs": [],
   "source": [
    "def printUniqueTokens(series):\n",
    "    unique_series = series.unique()\n",
    "    token_count = {}\n",
    "    for a in unique_series:\n",
    "        tokens = a.split(' ')\n",
    "        for t in tokens:\n",
    "            if t not in token_count:\n",
    "                token_count[t] = 1\n",
    "            else:\n",
    "                token_count[t] += 1\n",
    "\n",
    "    for key, value in sorted(token_count.items(), key=lambda item: item[1]):\n",
    "        print(\"%s: %s\" % (key, value))"
   ]
  },
  {
   "cell_type": "code",
   "execution_count": 6,
   "metadata": {},
   "outputs": [
    {
     "ename": "NameError",
     "evalue": "name 'pd' is not defined",
     "output_type": "error",
     "traceback": [
      "\u001b[0;31m---------------------------------------------------------------------------\u001b[0m",
      "\u001b[0;31mNameError\u001b[0m                                 Traceback (most recent call last)",
      "\u001b[0;32m<ipython-input-6-f21c77eabe3e>\u001b[0m in \u001b[0;36m<module>\u001b[0;34m\u001b[0m\n\u001b[0;32m----> 1\u001b[0;31m \u001b[0mgolddupes\u001b[0m \u001b[0;34m=\u001b[0m \u001b[0mpd\u001b[0m\u001b[0;34m.\u001b[0m\u001b[0mread_csv\u001b[0m\u001b[0;34m(\u001b[0m\u001b[0;34m'/data/restaurants_DPL.tsv'\u001b[0m\u001b[0;34m,\u001b[0m \u001b[0mdelimiter\u001b[0m\u001b[0;34m=\u001b[0m\u001b[0;34m'\\t'\u001b[0m\u001b[0;34m)\u001b[0m\u001b[0;34m\u001b[0m\u001b[0;34m\u001b[0m\u001b[0m\n\u001b[0m\u001b[1;32m      2\u001b[0m \u001b[0mdupedict\u001b[0m \u001b[0;34m=\u001b[0m \u001b[0;34m{\u001b[0m\u001b[0;34m}\u001b[0m\u001b[0;34m\u001b[0m\u001b[0;34m\u001b[0m\u001b[0m\n\u001b[1;32m      3\u001b[0m \u001b[0;32mfor\u001b[0m \u001b[0mi\u001b[0m\u001b[0;34m,\u001b[0m \u001b[0mdupeRow\u001b[0m \u001b[0;32min\u001b[0m \u001b[0mgolddupes\u001b[0m\u001b[0;34m.\u001b[0m\u001b[0miterrows\u001b[0m\u001b[0;34m(\u001b[0m\u001b[0;34m)\u001b[0m\u001b[0;34m:\u001b[0m\u001b[0;34m\u001b[0m\u001b[0;34m\u001b[0m\u001b[0m\n\u001b[1;32m      4\u001b[0m     \u001b[0;32mif\u001b[0m \u001b[0mdupeRow\u001b[0m\u001b[0;34m[\u001b[0m\u001b[0;36m0\u001b[0m\u001b[0;34m]\u001b[0m \u001b[0;32mnot\u001b[0m \u001b[0;32min\u001b[0m \u001b[0mdupedict\u001b[0m\u001b[0;34m:\u001b[0m\u001b[0;34m\u001b[0m\u001b[0;34m\u001b[0m\u001b[0m\n\u001b[1;32m      5\u001b[0m         \u001b[0mdupedict\u001b[0m\u001b[0;34m[\u001b[0m\u001b[0mdupeRow\u001b[0m\u001b[0;34m[\u001b[0m\u001b[0;36m0\u001b[0m\u001b[0;34m]\u001b[0m\u001b[0;34m]\u001b[0m \u001b[0;34m=\u001b[0m \u001b[0mset\u001b[0m\u001b[0;34m(\u001b[0m\u001b[0;34m)\u001b[0m\u001b[0;34m\u001b[0m\u001b[0;34m\u001b[0m\u001b[0m\n",
      "\u001b[0;31mNameError\u001b[0m: name 'pd' is not defined"
     ]
    }
   ],
   "source": [
    "golddupes = pd.read_csv('/data/restaurants_DPL.tsv', delimiter='\\t')\n",
    "dupedict = {}\n",
    "for i, dupeRow in golddupes.iterrows():\n",
    "    if dupeRow[0] not in dupedict:\n",
    "        dupedict[dupeRow[0]] = set()\n",
    "        dupedict[dupeRow[0]].add(dupeRow[0])\n",
    "    #dupedict[dupeRow[0]].add(dupeRow[0])\n",
    "    dupedict[dupeRow[0]].add(dupeRow[1])\n",
    "    \n",
    "dupesets = list(dupedict.values())\n",
    "dupeids = [y for x in dupesets for y in x]"
   ]
  },
  {
   "cell_type": "code",
   "execution_count": 4,
   "metadata": {},
   "outputs": [],
   "source": [
    "def compareToGold(dfparam):\n",
    "    recdupes = list(dfparam[dfparam.id.map(len) > 1].id)\n",
    "    true_positive = []\n",
    "    false_negative = []\n",
    "    false_positive = []\n",
    "    for dupeset in dupesets:\n",
    "        if dupeset in recdupes:\n",
    "            true_positive.append(dupeset)\n",
    "        else:\n",
    "            false_negative.append(dupeset)\n",
    "    for recset in recdupes:\n",
    "        if recset not in dupesets:\n",
    "            false_positive.append(recset)\n",
    "    print(\"True positives: \" + str(len(true_positive)))\n",
    "    print(\"False negatives: \" + str(len(false_negative)))\n",
    "    print(\"False positives: \" + str(len(false_positive)))\n",
    "    precision = len(true_positive) / (len(true_positive) + len(false_positive))\n",
    "    recall = len(true_positive) / (len(true_positive) + len(false_negative))\n",
    "    fscore = (2*precision*recall) / (precision+recall)\n",
    "    print(\"Precision: \" + str(precision))\n",
    "    print(\"Recall: \" + str(recall))\n",
    "    print(\"Fscore: \" + str(fscore))\n",
    "    return true_positive, false_negative, false_positive"
   ]
  }
 ],
 "metadata": {
  "kernelspec": {
   "display_name": "Python 3",
   "language": "python",
   "name": "python3"
  },
  "language_info": {
   "codemirror_mode": {
    "name": "ipython",
    "version": 3
   },
   "file_extension": ".py",
   "mimetype": "text/x-python",
   "name": "python",
   "nbconvert_exporter": "python",
   "pygments_lexer": "ipython3",
   "version": "3.7.3"
  }
 },
 "nbformat": 4,
 "nbformat_minor": 2
}
