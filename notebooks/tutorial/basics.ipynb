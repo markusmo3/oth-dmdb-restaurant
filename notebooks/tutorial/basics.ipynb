{
 "cells": [
  {
   "cell_type": "markdown",
   "metadata": {},
   "source": [
    "### Ziel der Datenanalyse\n",
    "- Feature engineering: Versuch die Daten so zu Organisieren, dass das ML Model möglichst effizient arbeiten kann (z.B. Vermeiden von kategorischen Variablen (u.a. bei xgboost))\n",
    "- Schwachstellen in UX finden (wird selten von mobilen Endgeräten eingekauft? => evtl. verbesserung der Mobile UX)\n",
    "### Wie?\n",
    "- Daten manipulation/aufbereitung mit pandas\n",
    "- Visualisierung  In python idr. mit matplotlib und seaborn (seaborn ist eine Erweiterung von matplotlib)\n",
    "### Zu beachten!\n",
    "- Logistic regression/neuronale netze arbeiten mit numerischen Vektoren => Keine Kategorien oder Strings Verwenden! (ausser der Verwendete Algorithmus/die Verwendete Bibliothek unterstützt dies)\n",
    "- Häufige lösung hierfür: One-hot encoding\n",
    "- Zahlen die Skalieren sollten nicht kodiert werden. Normalisierung ist hier eine lösung ((zahl - mittelwert )/ standard abweichung ) <br>\n",
    "=> Grund hierfür: Aktivierungsfunktionen wie sigmoid haben so einen größeren effekt\n",
    "- Zusammenhängende features sollten vermieden werden\n",
    "\n",
    "\n",
    "\n"
   ]
  },
  {
   "cell_type": "markdown",
   "metadata": {},
   "source": [
    "### Arten/Konzepte/Verfahren von Machine Learning\n",
    "#### Begriffe\n",
    "- label: Variable, die vorhergesagt werden soll (im Code: y)\n",
    "- features: Daten, die zur vorhehrsage des labels dienen (im Code: X)\n",
    "- model: Das trainierte Machine learning model\n",
    "- trainingsdaten: Daten, die zum Trainieren des Machine learning models verwendet werden\n",
    "- testdaten: Daten, die zur Verifizierung der Genauigkeit des trainierten Models verwendet werden\n",
    "#### Supervised ML\n",
    "Übergeben von allen Daten (features und labels) an den Machine learning Algorithmus<br>\n",
    "Grundlegend wird zwischen Klassifiizierungs- und Regressionsproblemen unterschieden.\n",
    "##### Regression\n",
    "Ansatz, einen konkreten Wert vorherzusagen. (z.B. zukünftigen Aktuienkurs in EUR/USD)\n",
    "###### Lineare Regression\n",
    "Voraussetzung für die Anwendung von linearer Regression ist, dass zwischen den Features und dem label eine lineare Beziehung herscht.<br>\n",
    "Dann wird versucht eine line of best fit zu zeichen.\n",
    "<img src='img/linear_reg_bsp.png'>\n",
    "\n",
    "##### Klassifizierung\n",
    "Ansatz, einen Kategorischen Wert vorherzusagen. (z.B. Ist eine Katze auf dem Bild zu sehen? Ja/Nein oder Welche Aktion macht der Kunde als nächstes? Einkauf/Seite Verlassen/Produkt zu Warenkorb hinzufügen)\n",
    "##### Logistische Regression\n",
    "Voraussetzung für die Anwendung von logistischer Regression ist, dass die Daten durch ein Polynom oder eine Ebene geteilt werden können.<br>\n",
    "Beispiel: Vorhersage des Geschlechts anhand der Größe:  P(male|height=150) => Wahrscheinlichkeit, dass geschlecht Geschlecht Männlich ist unter der Bedingung Größe = 150\n",
    "\n",
    "#### Unsupervised ML\n",
    "Übergeben von Daten an Algorithmus ohne labels (tatsächliches Ergebnis)<br>\n",
    "Grund für die Verwendeung von unsupervised Machine Learning ist häfuig das Fehlen der tatsächlichen Ergebnisse\n",
    "\n",
    "#### Semi-Supervised ML\n",
    "Mischung aus supervised und unsupervised learning\n"
   ]
  },
  {
   "cell_type": "code",
   "execution_count": null,
   "metadata": {},
   "outputs": [],
   "source": []
  }
 ],
 "metadata": {
  "kernelspec": {
   "display_name": "Python 3",
   "language": "python",
   "name": "python3"
  },
  "language_info": {
   "codemirror_mode": {
    "name": "ipython",
    "version": 3
   },
   "file_extension": ".py",
   "mimetype": "text/x-python",
   "name": "python",
   "nbconvert_exporter": "python",
   "pygments_lexer": "ipython3",
   "version": "3.6.6"
  }
 },
 "nbformat": 4,
 "nbformat_minor": 2
}
