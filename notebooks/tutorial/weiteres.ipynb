{
 "cells": [
  {
   "cell_type": "markdown",
   "metadata": {},
   "source": [
    "### Häufige Fehler:\n",
    "#### Mehrere Korrelierte(=Zusammenhängende features)\n",
    "Wenn in einen Datensatz mehrere features vorhanden sind, die stark zusammenhängen (bsp. Alter und Altersgruppe(alt,jung) kann dies zu einer Ungenauigkeit im trainierten Model führen. <br>\n",
    "#### Es sind noch NAN/NULL Werte im Datensatz vorhande\n",
    "Dies führt häufig zu Fehlern, da viele Machine Learning Algorithmen keine NAN Werte behandeln können. \n",
    "Hier gibt es mehrere Möglichkeiten diese zu verarbeiten: \n",
    "- Entfernen aller Zeilen in denen ein solcher Wert vorkommt \n",
    "- Mittels eines ML Algorithmus versuchen, die NAN Werte zu “Erraten”\n",
    "- Einfaches Einsetzen des medians für die NAN Werte\n",
    "(XGBoost z.B.  behandelt fehlende Elemente selbstständig) \n",
    "\n",
    "#### Overfitting/Underfitting\n",
    "- Overfitting: Trainieren des Models mit zu vielen gleichen trainingsdaten =>  auswendiglernen der Daten \n",
    "- Underfitting: Training des Models mit zu wenigen Trainingsdaten\n",
    "Overfitting/Underfitting führen zu Fehlerhafter Klassifizierung der Daten(Siehe Bild unten) <br>\n",
    "Verhinderung von overfitting durch Training mit mehr unterschiedlichen Daten und zudem anschließenden Testen mit Testdaten (Bezeichnung hierfür: Cross validation )\n",
    "<img src=\"img/overfit_underfit.png\">"
   ]
  },
  {
   "cell_type": "code",
   "execution_count": null,
   "metadata": {},
   "outputs": [],
   "source": []
  }
 ],
 "metadata": {
  "kernelspec": {
   "display_name": "Python 3",
   "language": "python",
   "name": "python3"
  },
  "language_info": {
   "codemirror_mode": {
    "name": "ipython",
    "version": 3
   },
   "file_extension": ".py",
   "mimetype": "text/x-python",
   "name": "python",
   "nbconvert_exporter": "python",
   "pygments_lexer": "ipython3",
   "version": "3.6.6"
  }
 },
 "nbformat": 4,
 "nbformat_minor": 2
}
